{
 "cells": [
  {
   "cell_type": "code",
   "execution_count": 7,
   "id": "b03c7e44",
   "metadata": {},
   "outputs": [
    {
     "data": {
      "text/plain": "(4225, 3)"
     },
     "execution_count": 7,
     "metadata": {},
     "output_type": "execute_result"
    }
   ],
   "source": [
    "import pandas\n",
    "\n",
    "twitter_messages = pandas.read_csv(\"datasets/calentamientoClimatico.csv\", delimiter=\";\")\n",
    "\n",
    "twitter_messages.shape"
   ]
  },
  {
   "cell_type": "code",
   "execution_count": 8,
   "id": "825cc398",
   "metadata": {},
   "outputs": [
    {
     "data": {
      "text/plain": "                                               TWEET CREENCIA  CONFIANZA\n0  Global warming report urges governments to act...      Yes     1.0000\n1  Fighting poverty and global warming in Africa ...      Yes     1.0000\n2  Carbon offsets: How a Vatican forest failed to...      Yes     0.8786\n3  Carbon offsets: How a Vatican forest failed to...      Yes     1.0000\n4  URUGUAY: Tools Needed for Those Most Vulnerabl...      Yes     0.8087",
      "text/html": "<div>\n<style scoped>\n    .dataframe tbody tr th:only-of-type {\n        vertical-align: middle;\n    }\n\n    .dataframe tbody tr th {\n        vertical-align: top;\n    }\n\n    .dataframe thead th {\n        text-align: right;\n    }\n</style>\n<table border=\"1\" class=\"dataframe\">\n  <thead>\n    <tr style=\"text-align: right;\">\n      <th></th>\n      <th>TWEET</th>\n      <th>CREENCIA</th>\n      <th>CONFIANZA</th>\n    </tr>\n  </thead>\n  <tbody>\n    <tr>\n      <th>0</th>\n      <td>Global warming report urges governments to act...</td>\n      <td>Yes</td>\n      <td>1.0000</td>\n    </tr>\n    <tr>\n      <th>1</th>\n      <td>Fighting poverty and global warming in Africa ...</td>\n      <td>Yes</td>\n      <td>1.0000</td>\n    </tr>\n    <tr>\n      <th>2</th>\n      <td>Carbon offsets: How a Vatican forest failed to...</td>\n      <td>Yes</td>\n      <td>0.8786</td>\n    </tr>\n    <tr>\n      <th>3</th>\n      <td>Carbon offsets: How a Vatican forest failed to...</td>\n      <td>Yes</td>\n      <td>1.0000</td>\n    </tr>\n    <tr>\n      <th>4</th>\n      <td>URUGUAY: Tools Needed for Those Most Vulnerabl...</td>\n      <td>Yes</td>\n      <td>0.8087</td>\n    </tr>\n  </tbody>\n</table>\n</div>"
     },
     "execution_count": 8,
     "metadata": {},
     "output_type": "execute_result"
    }
   ],
   "source": [
    "# Creencia -> opinión expresada por el mensaje\n",
    "# Confianza -> Porcentaje en que la opinión expresada corresponde a la creencia\n",
    "twitter_messages.head()"
   ]
  },
  {
   "cell_type": "code",
   "execution_count": 9,
   "id": "827f9c61",
   "metadata": {},
   "outputs": [
    {
     "data": {
      "text/plain": "                                               TWEET  CREENCIA  CONFIANZA\n0  Global warming report urges governments to act...         1     1.0000\n1  Fighting poverty and global warming in Africa ...         1     1.0000\n2  Carbon offsets: How a Vatican forest failed to...         1     0.8786\n3  Carbon offsets: How a Vatican forest failed to...         1     1.0000\n4  URUGUAY: Tools Needed for Those Most Vulnerabl...         1     0.8087\n5  RT @sejorg: RT @JaymiHeimbuch: Ocean Saltiness...         1     1.0000\n6  Global warming evidence all around us|A messag...         1     1.0000\n7  Migratory Birds' New Climate Change Strategy: ...         1     1.0000\n8  Southern Africa: Competing for Limpopo Water: ...         1     1.0000\n9  Global warming to impact wheat, rice productio...         1     1.0000",
      "text/html": "<div>\n<style scoped>\n    .dataframe tbody tr th:only-of-type {\n        vertical-align: middle;\n    }\n\n    .dataframe tbody tr th {\n        vertical-align: top;\n    }\n\n    .dataframe thead th {\n        text-align: right;\n    }\n</style>\n<table border=\"1\" class=\"dataframe\">\n  <thead>\n    <tr style=\"text-align: right;\">\n      <th></th>\n      <th>TWEET</th>\n      <th>CREENCIA</th>\n      <th>CONFIANZA</th>\n    </tr>\n  </thead>\n  <tbody>\n    <tr>\n      <th>0</th>\n      <td>Global warming report urges governments to act...</td>\n      <td>1</td>\n      <td>1.0000</td>\n    </tr>\n    <tr>\n      <th>1</th>\n      <td>Fighting poverty and global warming in Africa ...</td>\n      <td>1</td>\n      <td>1.0000</td>\n    </tr>\n    <tr>\n      <th>2</th>\n      <td>Carbon offsets: How a Vatican forest failed to...</td>\n      <td>1</td>\n      <td>0.8786</td>\n    </tr>\n    <tr>\n      <th>3</th>\n      <td>Carbon offsets: How a Vatican forest failed to...</td>\n      <td>1</td>\n      <td>1.0000</td>\n    </tr>\n    <tr>\n      <th>4</th>\n      <td>URUGUAY: Tools Needed for Those Most Vulnerabl...</td>\n      <td>1</td>\n      <td>0.8087</td>\n    </tr>\n    <tr>\n      <th>5</th>\n      <td>RT @sejorg: RT @JaymiHeimbuch: Ocean Saltiness...</td>\n      <td>1</td>\n      <td>1.0000</td>\n    </tr>\n    <tr>\n      <th>6</th>\n      <td>Global warming evidence all around us|A messag...</td>\n      <td>1</td>\n      <td>1.0000</td>\n    </tr>\n    <tr>\n      <th>7</th>\n      <td>Migratory Birds' New Climate Change Strategy: ...</td>\n      <td>1</td>\n      <td>1.0000</td>\n    </tr>\n    <tr>\n      <th>8</th>\n      <td>Southern Africa: Competing for Limpopo Water: ...</td>\n      <td>1</td>\n      <td>1.0000</td>\n    </tr>\n    <tr>\n      <th>9</th>\n      <td>Global warming to impact wheat, rice productio...</td>\n      <td>1</td>\n      <td>1.0000</td>\n    </tr>\n  </tbody>\n</table>\n</div>"
     },
     "execution_count": 9,
     "metadata": {},
     "output_type": "execute_result"
    }
   ],
   "source": [
    "# Pasar característica \"Creencia\" numérica\n",
    "twitter_messages['CREENCIA'] = (twitter_messages['CREENCIA'] == 'Yes').astype(int)\n",
    "\n",
    "twitter_messages.head(10)"
   ]
  },
  {
   "cell_type": "code",
   "execution_count": 10,
   "id": "a655eef0",
   "metadata": {},
   "outputs": [],
   "source": [
    "import re\n",
    "\n",
    "def normalize(message):\n",
    "    message = re.sub('((www\\.[^\\s]+)|(https?://[^\\s]+))', 'URL', message)\n",
    "    message = re.sub('@[^\\s]+', 'USER', message)\n",
    "    message = message.lower().replace(\"ë\", \"e\")\n",
    "    message = re.sub('[^a-zA-Za-яA-Я1-9]', ' ', message)\n",
    "    message = re.sub(' +', ' ', message)\n",
    "    return message.strip()"
   ]
  },
  {
   "cell_type": "code",
   "execution_count": 11,
   "id": "b7d4e3cc",
   "metadata": {},
   "outputs": [
    {
     "data": {
      "text/plain": "                                               TWEET  CREENCIA  CONFIANZA\n0  global warming report urges governments to act...         1     1.0000\n1  fighting poverty and global warming in africa ...         1     1.0000\n2  carbon offsets how a vatican forest failed to ...         1     0.8786\n3  carbon offsets how a vatican forest failed to ...         1     1.0000\n4  uruguay tools needed for those most vulnerable...         1     0.8087\n5  rt user rt user ocean saltiness shows global w...         1     1.0000\n6  global warming evidence all around us|a messag...         1     1.0000\n7  migratory birds new climate change strategy st...         1     1.0000\n8  southern africa competing for limpopo water cl...         1     1.0000\n9  global warming to impact wheat rice production...         1     1.0000",
      "text/html": "<div>\n<style scoped>\n    .dataframe tbody tr th:only-of-type {\n        vertical-align: middle;\n    }\n\n    .dataframe tbody tr th {\n        vertical-align: top;\n    }\n\n    .dataframe thead th {\n        text-align: right;\n    }\n</style>\n<table border=\"1\" class=\"dataframe\">\n  <thead>\n    <tr style=\"text-align: right;\">\n      <th></th>\n      <th>TWEET</th>\n      <th>CREENCIA</th>\n      <th>CONFIANZA</th>\n    </tr>\n  </thead>\n  <tbody>\n    <tr>\n      <th>0</th>\n      <td>global warming report urges governments to act...</td>\n      <td>1</td>\n      <td>1.0000</td>\n    </tr>\n    <tr>\n      <th>1</th>\n      <td>fighting poverty and global warming in africa ...</td>\n      <td>1</td>\n      <td>1.0000</td>\n    </tr>\n    <tr>\n      <th>2</th>\n      <td>carbon offsets how a vatican forest failed to ...</td>\n      <td>1</td>\n      <td>0.8786</td>\n    </tr>\n    <tr>\n      <th>3</th>\n      <td>carbon offsets how a vatican forest failed to ...</td>\n      <td>1</td>\n      <td>1.0000</td>\n    </tr>\n    <tr>\n      <th>4</th>\n      <td>uruguay tools needed for those most vulnerable...</td>\n      <td>1</td>\n      <td>0.8087</td>\n    </tr>\n    <tr>\n      <th>5</th>\n      <td>rt user rt user ocean saltiness shows global w...</td>\n      <td>1</td>\n      <td>1.0000</td>\n    </tr>\n    <tr>\n      <th>6</th>\n      <td>global warming evidence all around us|a messag...</td>\n      <td>1</td>\n      <td>1.0000</td>\n    </tr>\n    <tr>\n      <th>7</th>\n      <td>migratory birds new climate change strategy st...</td>\n      <td>1</td>\n      <td>1.0000</td>\n    </tr>\n    <tr>\n      <th>8</th>\n      <td>southern africa competing for limpopo water cl...</td>\n      <td>1</td>\n      <td>1.0000</td>\n    </tr>\n    <tr>\n      <th>9</th>\n      <td>global warming to impact wheat rice production...</td>\n      <td>1</td>\n      <td>1.0000</td>\n    </tr>\n  </tbody>\n</table>\n</div>"
     },
     "execution_count": 11,
     "metadata": {},
     "output_type": "execute_result"
    }
   ],
   "source": [
    "# Aplicar función de normalización\n",
    "twitter_messages[\"TWEET\"] = twitter_messages[\"TWEET\"].apply(normalize)\n",
    "\n",
    "twitter_messages.head(10)"
   ]
  },
  {
   "cell_type": "code",
   "execution_count": 12,
   "id": "234cbff9",
   "metadata": {},
   "outputs": [],
   "source": [
    "# Descargar y cargar stopwords\n",
    "#import nltk\n",
    "from nltk.corpus import stopwords\n",
    "\n",
    "#nltk.download('stopwords')\n",
    "\n",
    "stopwords_loaded = stopwords.words('english')"
   ]
  },
  {
   "cell_type": "code",
   "execution_count": 14,
   "id": "3c181de5",
   "metadata": {},
   "outputs": [
    {
     "data": {
      "text/plain": "0       global warming report urges governments act|br...\n1           fighting poverty global warming africa [link]\n2       carbon offsets vatican forest failed reduce gl...\n3       carbon offsets vatican forest failed reduce gl...\n4       uruguay tools needed vulnerable climate change...\n                              ...                        \n4220    83 _á climbing nyc august weather first day ma...\n4221    user phrase global warming abandoned favor cli...\n4222       global warming tube parody enjoy ipcc ocra url\n4223    one eyed golfer dare tell global warming twent...\n4224    man made global warming hair brained theory 4 ...\nName: TWEET, Length: 4225, dtype: object"
     },
     "execution_count": 14,
     "metadata": {},
     "output_type": "execute_result"
    }
   ],
   "source": [
    "# Eliminación de las stop words\n",
    "twitter_messages['TWEET'] = twitter_messages['TWEET'].apply(lambda message: ' '.join([word for word in message.split() if word not in (stopwords_loaded)]))\n",
    "\n",
    "twitter_messages['TWEET']"
   ]
  },
  {
   "cell_type": "code",
   "execution_count": 16,
   "id": "8e9ec98b",
   "metadata": {},
   "outputs": [
    {
     "data": {
      "text/plain": "                                               TWEET  CREENCIA  CONFIANZA\n0  global warm report urg govern act|brussel belg...         1     1.0000\n1            fight poverti global warm africa [link]         1     1.0000\n2  carbon offset vatican forest fail reduc global...         1     0.8786\n3  carbon offset vatican forest fail reduc global...         1     1.0000\n4       uruguay tool need vulner climat chang [link]         1     0.8087",
      "text/html": "<div>\n<style scoped>\n    .dataframe tbody tr th:only-of-type {\n        vertical-align: middle;\n    }\n\n    .dataframe tbody tr th {\n        vertical-align: top;\n    }\n\n    .dataframe thead th {\n        text-align: right;\n    }\n</style>\n<table border=\"1\" class=\"dataframe\">\n  <thead>\n    <tr style=\"text-align: right;\">\n      <th></th>\n      <th>TWEET</th>\n      <th>CREENCIA</th>\n      <th>CONFIANZA</th>\n    </tr>\n  </thead>\n  <tbody>\n    <tr>\n      <th>0</th>\n      <td>global warm report urg govern act|brussel belg...</td>\n      <td>1</td>\n      <td>1.0000</td>\n    </tr>\n    <tr>\n      <th>1</th>\n      <td>fight poverti global warm africa [link]</td>\n      <td>1</td>\n      <td>1.0000</td>\n    </tr>\n    <tr>\n      <th>2</th>\n      <td>carbon offset vatican forest fail reduc global...</td>\n      <td>1</td>\n      <td>0.8786</td>\n    </tr>\n    <tr>\n      <th>3</th>\n      <td>carbon offset vatican forest fail reduc global...</td>\n      <td>1</td>\n      <td>1.0000</td>\n    </tr>\n    <tr>\n      <th>4</th>\n      <td>uruguay tool need vulner climat chang [link]</td>\n      <td>1</td>\n      <td>0.8087</td>\n    </tr>\n  </tbody>\n</table>\n</div>"
     },
     "execution_count": 16,
     "metadata": {},
     "output_type": "execute_result"
    }
   ],
   "source": [
    "# Stemming\n",
    "\n",
    "from nltk.stem.snowball import SnowballStemmer\n",
    "\n",
    "stemmer = SnowballStemmer('english')\n",
    "\n",
    "twitter_messages['TWEET'] = twitter_messages['TWEET'].apply(lambda message: ' '.join([stemmer.stem(word) for word in message.split(' ')]))\n",
    "\n",
    "twitter_messages.head()"
   ]
  },
  {
   "cell_type": "code",
   "execution_count": 17,
   "id": "e1a094b6",
   "metadata": {},
   "outputs": [
    {
     "name": "stderr",
     "output_type": "stream",
     "text": [
      "[nltk_data] Downloading package wordnet to\n",
      "[nltk_data]     C:\\Users\\jorge\\AppData\\Roaming\\nltk_data...\n",
      "[nltk_data]   Package wordnet is already up-to-date!\n",
      "[nltk_data] Downloading package omw-1.4 to\n",
      "[nltk_data]     C:\\Users\\jorge\\AppData\\Roaming\\nltk_data...\n",
      "[nltk_data]   Package omw-1.4 is already up-to-date!\n"
     ]
    },
    {
     "data": {
      "text/plain": "True"
     },
     "execution_count": 17,
     "metadata": {},
     "output_type": "execute_result"
    }
   ],
   "source": [
    "import nltk\n",
    "nltk.download('wordnet')\n",
    "nltk.download('omw-1.4')"
   ]
  },
  {
   "cell_type": "code",
   "execution_count": 19,
   "id": "159bf2a7",
   "metadata": {},
   "outputs": [
    {
     "data": {
      "text/plain": "                                                  TWEET  CREENCIA  CONFIANZA\n0     global warm report urg govern act|brussel belg...         1     1.0000\n1               fight poverti global warm africa [link]         1     1.0000\n2     carbon offset vatican forest fail reduc global...         1     0.8786\n3     carbon offset vatican forest fail reduc global...         1     1.0000\n4          uruguay tool need vulner climat chang [link]         1     0.8087\n...                                                 ...       ...        ...\n4220  83 _á climb nyc august weather first day may u...         1     1.0000\n4221  user phrase global warm abandon favor climat c...         1     1.0000\n4222        global warm tube parodi enjoy ipcc ocra url         0     0.6411\n4223  one eye golfer dare tell global warm twenti fi...         0     1.0000\n4224  man made global warm hair brain theori 4 scien...         0     1.0000\n\n[4225 rows x 3 columns]",
      "text/html": "<div>\n<style scoped>\n    .dataframe tbody tr th:only-of-type {\n        vertical-align: middle;\n    }\n\n    .dataframe tbody tr th {\n        vertical-align: top;\n    }\n\n    .dataframe thead th {\n        text-align: right;\n    }\n</style>\n<table border=\"1\" class=\"dataframe\">\n  <thead>\n    <tr style=\"text-align: right;\">\n      <th></th>\n      <th>TWEET</th>\n      <th>CREENCIA</th>\n      <th>CONFIANZA</th>\n    </tr>\n  </thead>\n  <tbody>\n    <tr>\n      <th>0</th>\n      <td>global warm report urg govern act|brussel belg...</td>\n      <td>1</td>\n      <td>1.0000</td>\n    </tr>\n    <tr>\n      <th>1</th>\n      <td>fight poverti global warm africa [link]</td>\n      <td>1</td>\n      <td>1.0000</td>\n    </tr>\n    <tr>\n      <th>2</th>\n      <td>carbon offset vatican forest fail reduc global...</td>\n      <td>1</td>\n      <td>0.8786</td>\n    </tr>\n    <tr>\n      <th>3</th>\n      <td>carbon offset vatican forest fail reduc global...</td>\n      <td>1</td>\n      <td>1.0000</td>\n    </tr>\n    <tr>\n      <th>4</th>\n      <td>uruguay tool need vulner climat chang [link]</td>\n      <td>1</td>\n      <td>0.8087</td>\n    </tr>\n    <tr>\n      <th>...</th>\n      <td>...</td>\n      <td>...</td>\n      <td>...</td>\n    </tr>\n    <tr>\n      <th>4220</th>\n      <td>83 _á climb nyc august weather first day may u...</td>\n      <td>1</td>\n      <td>1.0000</td>\n    </tr>\n    <tr>\n      <th>4221</th>\n      <td>user phrase global warm abandon favor climat c...</td>\n      <td>1</td>\n      <td>1.0000</td>\n    </tr>\n    <tr>\n      <th>4222</th>\n      <td>global warm tube parodi enjoy ipcc ocra url</td>\n      <td>0</td>\n      <td>0.6411</td>\n    </tr>\n    <tr>\n      <th>4223</th>\n      <td>one eye golfer dare tell global warm twenti fi...</td>\n      <td>0</td>\n      <td>1.0000</td>\n    </tr>\n    <tr>\n      <th>4224</th>\n      <td>man made global warm hair brain theori 4 scien...</td>\n      <td>0</td>\n      <td>1.0000</td>\n    </tr>\n  </tbody>\n</table>\n<p>4225 rows × 3 columns</p>\n</div>"
     },
     "execution_count": 19,
     "metadata": {},
     "output_type": "execute_result"
    }
   ],
   "source": [
    "# Lematización\n",
    "\n",
    "from nltk.stem import WordNetLemmatizer\n",
    "\n",
    "lemmatizer = WordNetLemmatizer()\n",
    "\n",
    "twitter_messages['TWEET'] = twitter_messages['TWEET'].apply(lambda message: ' '.join([lemmatizer.lemmatize(word) for word in message.split(' ')]))\n",
    "\n",
    "twitter_messages"
   ]
  },
  {
   "cell_type": "code",
   "execution_count": 20,
   "id": "601f850c",
   "metadata": {},
   "outputs": [],
   "source": [
    "# Distribución en conjunto de pruebas y aprendizaje\n",
    "\n",
    "from sklearn.model_selection import train_test_split\n",
    "\n",
    "x_train, x_test, y_train, y_test = train_test_split(twitter_messages['TWEET'].values, twitter_messages['CREENCIA'].values, test_size=0.2)"
   ]
  },
  {
   "cell_type": "code",
   "execution_count": 22,
   "id": "d7e44029",
   "metadata": {},
   "outputs": [],
   "source": [
    "# Crear canalización\n",
    "\n",
    "from sklearn.pipeline import Pipeline\n",
    "from sklearn.feature_extraction.text import CountVectorizer\n",
    "from sklearn.feature_extraction.text import TfidfTransformer\n",
    "from sklearn.naive_bayes import MultinomialNB\n",
    "\n",
    "learning_stages = Pipeline([('frecuence', CountVectorizer()), ('tfidf', TfidfTransformer()), ('algorithm', MultinomialNB())])"
   ]
  },
  {
   "cell_type": "code",
   "execution_count": 23,
   "id": "38f643ca",
   "metadata": {},
   "outputs": [
    {
     "name": "stdout",
     "output_type": "stream",
     "text": [
      "              precision    recall  f1-score   support\n",
      "\n",
      "           0     0.8378    0.2756    0.4147       225\n",
      "           1     0.7886    0.9806    0.8742       620\n",
      "\n",
      "    accuracy                         0.7929       845\n",
      "   macro avg     0.8132    0.6281    0.6445       845\n",
      "weighted avg     0.8017    0.7929    0.7518       845\n",
      "\n"
     ]
    }
   ],
   "source": [
    "# Iniciar fase de aprendizaje\n",
    "\n",
    "model = learning_stages.fit(x_train, y_train)\n",
    "\n",
    "from sklearn.metrics import classification_report\n",
    "\n",
    "report = classification_report(y_test, model.predict(x_test), digits=4)\n",
    "\n",
    "print(report)"
   ]
  },
  {
   "cell_type": "code",
   "execution_count": 24,
   "id": "1f30af97",
   "metadata": {},
   "outputs": [
    {
     "name": "stdout",
     "output_type": "stream",
     "text": [
      "[1]\n",
      ">> Cree en el calentamiento climático...\n"
     ]
    }
   ],
   "source": [
    "phrase = \"Why should trust scientists with global warming if they didnt know Pluto wasnt a planet\"\n",
    "\n",
    "# Normalización\n",
    "phrase = normalize(phrase)\n",
    "\n",
    "# Eliminar stop words\n",
    "phrase = ' '.join([word for word in phrase.split() if word not in (stopwords_loaded)])\n",
    "\n",
    "# Aplicación de stemming\n",
    "phrase = ' '.join([stemmer.stem(word) for word in phrase.split(' ')])\n",
    "\n",
    "# Lematización\n",
    "phrase = ' '.join([lemmatizer.lemmatize(word) for word in phrase.split(' ')])\n",
    "\n",
    "prediction = model.predict([phrase])\n",
    "print(prediction)\n",
    "if (prediction[0] == 0):\n",
    "    print(\">> No cree en el calentamiento climático...\")\n",
    "else:\n",
    "    print(\">> Cree en el calentamiento climático...\")\n"
   ]
  },
  {
   "cell_type": "code",
   "execution_count": null,
   "outputs": [],
   "source": [],
   "metadata": {
    "collapsed": false
   }
  }
 ],
 "metadata": {
  "kernelspec": {
   "display_name": "Python 3 (ipykernel)",
   "language": "python",
   "name": "python3"
  },
  "language_info": {
   "codemirror_mode": {
    "name": "ipython",
    "version": 3
   },
   "file_extension": ".py",
   "mimetype": "text/x-python",
   "name": "python",
   "nbconvert_exporter": "python",
   "pygments_lexer": "ipython3",
   "version": "3.8.10"
  }
 },
 "nbformat": 4,
 "nbformat_minor": 5
}
