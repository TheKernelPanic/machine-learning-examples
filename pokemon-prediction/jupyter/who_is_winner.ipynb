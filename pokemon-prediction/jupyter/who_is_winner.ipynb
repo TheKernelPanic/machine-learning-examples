{
 "cells": [
  {
   "cell_type": "code",
   "execution_count": 2,
   "id": "99e08834",
   "metadata": {},
   "outputs": [],
   "source": [
    "import csv\n",
    "import joblib\n",
    "\n",
    "def search_information_pokemon(number, pokedex):\n",
    "    information = []\n",
    "    for pokemon in pokedex:\n",
    "        if (int(pokemon[0]) == number):\n",
    "            information = [pokemon[0], pokemon[1], pokemon[4], pokemon[5], pokemon[6], pokemon[7], pokemon[8], pokemon[9], pokemon[10]]\n",
    "            break\n",
    "    return information    \n",
    "\n"
   ]
  },
  {
   "cell_type": "code",
   "execution_count": 3,
   "id": "011310c8",
   "metadata": {},
   "outputs": [
    {
     "name": "stdout",
     "output_type": "stream",
     "text": [
      "COMPATE QUE ENFRENTA: (25)Rattata a (92) Doduo\n",
      "  Rattata: 0.4992392228368873\n",
      "  Doduo: 0.5830108576561258\n",
      "\n",
      "\n",
      "DODUO ES EL GANADOR\n"
     ]
    }
   ],
   "source": [
    "def prediction(number_pokemon_1, number_pokemon_2, pokedex):\n",
    "    pokemon1 = search_information_pokemon(number_pokemon_1, pokedex)\n",
    "    pokemon2 = search_information_pokemon(number_pokemon_2, pokedex)\n",
    "    \n",
    "    prediction_model = joblib.load('../models/model_pokemon.mod')\n",
    "    prediction_pokemon_1 = prediction_model.predict([[pokemon1[2], pokemon1[3], pokemon1[4], pokemon1[5], pokemon1[6], pokemon1[7], pokemon1[8]]])\n",
    "    prediction_pokemon_2 = prediction_model.predict([[pokemon2[2], pokemon2[3], pokemon2[4], pokemon2[5], pokemon2[6], pokemon2[7], pokemon2[8]]])\n",
    "    \n",
    "\n",
    "    print(\"COMPATE QUE ENFRENTA: (\" + str(number_pokemon_1) + \")\" + pokemon1[1] + \" a (\" + str(number_pokemon_2) + \") \" + pokemon2[1])\n",
    "    print(\"  \" + pokemon1[1] + \": \" + str(prediction_pokemon_1[0]))\n",
    "    print(\"  \" + pokemon2[1] + \": \" + str(prediction_pokemon_2[0]))\n",
    "    print(\"\\n\")\n",
    "    if prediction_pokemon_1 > prediction_pokemon_2:\n",
    "        print(pokemon1[1].upper() + \" ES EL GANADOR\")\n",
    "    else:\n",
    "        print(pokemon2[1].upper() + \" ES EL GANADOR\") \n",
    "        \n",
    "with open(\"../datasets/pokedex.csv\", newline='') as csvfile:\n",
    "    pokedex = csv.reader(csvfile)\n",
    "    next(pokedex)\n",
    "    prediction(25, 92, pokedex)    "
   ]
  },
  {
   "cell_type": "code",
   "execution_count": null,
   "id": "a41538d0",
   "metadata": {},
   "outputs": [],
   "source": []
  }
 ],
 "metadata": {
  "kernelspec": {
   "display_name": "Python 3 (ipykernel)",
   "language": "python",
   "name": "python3"
  },
  "language_info": {
   "codemirror_mode": {
    "name": "ipython",
    "version": 3
   },
   "file_extension": ".py",
   "mimetype": "text/x-python",
   "name": "python",
   "nbconvert_exporter": "python",
   "pygments_lexer": "ipython3",
   "version": "3.8.2"
  }
 },
 "nbformat": 4,
 "nbformat_minor": 5
}
